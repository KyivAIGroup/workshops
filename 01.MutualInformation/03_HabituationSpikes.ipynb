{
  "nbformat": 4,
  "nbformat_minor": 0,
  "metadata": {
    "colab": {
      "name": "03.HabituationSpikes.ipynb",
      "version": "0.3.2",
      "provenance": [],
      "collapsed_sections": []
    },
    "kernelspec": {
      "name": "python3",
      "display_name": "Python 3"
    }
  },
  "cells": [
    {
      "metadata": {
        "id": "YnWuzB9IUdv2",
        "colab_type": "text"
      },
      "cell_type": "markdown",
      "source": [
        "## Stimulus response habituation\n",
        "\n",
        "The task and the simulated plot shown here is redrawn from the work of N. Timme and C. Lapish \"A Tutorial for Information Theory in Neuroscience\", 2018.\n",
        "\n",
        "A sensory neuron $S$ responds to stimulation of the gill and siphon. This sensory neuron then makes a synapse on a motor neuron $M$ that controls the withdrawal muscle. It has been shown that the habituation process is due to changes in the synapse between the sensory neuron and the motor neuron. Excitatory connection from the stimulated neuron $S$ to the postsynaptic neuron $M$ decreased in strength with repeated stimulation via an exponential decay. Here is the simulation."
      ]
    },
    {
      "metadata": {
        "id": "guHSkpHIWLZi",
        "colab_type": "code",
        "outputId": "7fb735d6-fb5d-4f2c-b0ac-09ca94952916",
        "colab": {
          "base_uri": "https://localhost:8080/",
          "height": 438
        }
      },
      "cell_type": "code",
      "source": [
        "!pip install numpy==1.15.4 matplotlib==3.0.1\n",
        "%matplotlib inline\n",
        "\n",
        "import matplotlib.pyplot as plt\n",
        "import numpy as np\n",
        "\n",
        "FIRING_RATE_NOISE = 0.005\n",
        "FIRING_RATE_STIMULI = 0.1\n",
        "\n",
        "STIMULI_START = 1000\n",
        "STIMULI_DURATION = 500\n",
        "\n",
        "SENSORY_MOTOR_STRENGTHS = (0.9, 0.5, 0.05)  # 3 trials; between 0 and 1\n",
        "\n",
        "np.random.seed(26)\n",
        "\n",
        "\n",
        "def generate_spikes(rate: float, duration: int):\n",
        "    \"\"\"\n",
        "    :param rate: neuron's firing rate\n",
        "    :param duration: experiment duration, ms\n",
        "    :return: neuron spike raster with Gamma distributed inter-spike intervals\n",
        "    \"\"\"\n",
        "    expected_size = int(rate * duration)\n",
        "    t_spikes = []\n",
        "    start = 0\n",
        "    while True:\n",
        "        intervals = np.random.gamma(shape=2, scale=1/rate, size=expected_size)\n",
        "        t_spikes = np.r_[t_spikes, np.cumsum(intervals) + start]\n",
        "        start = t_spikes[-1]\n",
        "        if start >= duration:\n",
        "            break\n",
        "    t_spikes = t_spikes.astype(int).clip(max=duration-1)\n",
        "    spikes = np.zeros(duration, dtype=int)\n",
        "    spikes[t_spikes] = 1\n",
        "    return spikes\n",
        "\n",
        "\n",
        "def generate_sensory_spikes(rate: float, duration: int):\n",
        "    noise = generate_spikes(rate=FIRING_RATE_NOISE, duration=duration)\n",
        "    sensory_spikes = generate_spikes(rate=rate, duration=duration)\n",
        "    sensory_spikes ^= noise\n",
        "    return sensory_spikes\n",
        "\n",
        "\n",
        "def generate_motor_spikes(sensory_spikes, connection_strength: float):\n",
        "    assert 0 <= connection_strength <= 1\n",
        "    p_spikes = np.random.uniform(low=0, high=1, size=len(sensory_spikes))\n",
        "    noise = generate_spikes(rate=FIRING_RATE_NOISE, duration=len(sensory_spikes))\n",
        "    motor_spikes = sensory_spikes * (p_spikes < connection_strength)\n",
        "    motor_spikes ^= noise\n",
        "    return motor_spikes\n",
        "\n",
        "\n",
        "def generate_experiments():\n",
        "    sensory_spikes_experiments = []\n",
        "    motor_spikes_experiments = []\n",
        "    for connection_strength in [0.9, 0.5, 0.05]:\n",
        "        sensory_spikes = np.r_[generate_spikes(rate=FIRING_RATE_NOISE, duration=STIMULI_START),\n",
        "                               generate_sensory_spikes(rate=FIRING_RATE_STIMULI, duration=STIMULI_DURATION),\n",
        "                               generate_spikes(rate=FIRING_RATE_NOISE, duration=300)]\n",
        "        sensory_spikes_experiments.append(sensory_spikes)\n",
        "        motor_spikes = generate_motor_spikes(sensory_spikes=sensory_spikes, connection_strength=connection_strength)\n",
        "        motor_spikes_experiments.append(motor_spikes)\n",
        "    s = np.vstack(sensory_spikes_experiments)\n",
        "    m = np.vstack(motor_spikes_experiments)\n",
        "    return s, m\n",
        "\n",
        "\n",
        "def visualize_spikes(sensory_spikes, motor_spikes):\n",
        "    events = []\n",
        "    colors = ['red', 'blue'] * 3\n",
        "    for s, m in zip(sensory_spikes, motor_spikes):\n",
        "        events.append(np.where(s)[0])\n",
        "        events.append(np.where(m)[0])\n",
        "    plt.bar(STIMULI_START, height=4, width=STIMULI_DURATION, align='edge', alpha=0.3, color='grey')\n",
        "    lineoffsets = [3.25, 2.75, 2.25, 1.75, 1.25, 0.75]\n",
        "    plt.eventplot(events, linelengths=0.25, lineoffsets=lineoffsets, colors=colors)\n",
        "    plt.yticks(ticks=[3, 2, 1], labels=['First Trial', 'Middle Trial', 'Last Trial'])\n",
        "    plt.xlim(left=0)\n",
        "    plt.text(x=STIMULI_START + 50, y=3.75, s='Stimulation ON')\n",
        "    for text, y, color in zip(['S Neuron', 'M Neuron'] * 3, lineoffsets, colors):\n",
        "        plt.text(x=50, y=y + 0.2, s=text, color=color)\n",
        "    plt.xlabel('Time, ms')\n",
        "    plt.title('Habituation Spike Rasters')\n",
        "    plt.grid(False)\n",
        "    plt.show()\n",
        "\n",
        "\n",
        "sensory_spikes, motor_spikes = generate_experiments()\n",
        "visualize_spikes(sensory_spikes, motor_spikes)"
      ],
      "execution_count": 1,
      "outputs": [
        {
          "output_type": "stream",
          "text": [
            "Requirement already satisfied: numpy==1.15.4 in /usr/local/lib/python3.6/dist-packages (1.15.4)\n",
            "Requirement already satisfied: matplotlib==3.0.1 in /usr/local/lib/python3.6/dist-packages (3.0.1)\n",
            "Requirement already satisfied: pyparsing!=2.0.4,!=2.1.2,!=2.1.6,>=2.0.1 in /usr/local/lib/python3.6/dist-packages (from matplotlib==3.0.1) (2.3.0)\n",
            "Requirement already satisfied: cycler>=0.10 in /usr/local/lib/python3.6/dist-packages (from matplotlib==3.0.1) (0.10.0)\n",
            "Requirement already satisfied: python-dateutil>=2.1 in /usr/local/lib/python3.6/dist-packages (from matplotlib==3.0.1) (2.5.3)\n",
            "Requirement already satisfied: kiwisolver>=1.0.1 in /usr/local/lib/python3.6/dist-packages (from matplotlib==3.0.1) (1.0.1)\n",
            "Requirement already satisfied: six in /usr/local/lib/python3.6/dist-packages (from cycler>=0.10->matplotlib==3.0.1) (1.11.0)\n",
            "Requirement already satisfied: setuptools in /usr/local/lib/python3.6/dist-packages (from kiwisolver>=1.0.1->matplotlib==3.0.1) (40.6.2)\n"
          ],
          "name": "stdout"
        },
        {
          "output_type": "display_data",
          "data": {
            "image/png": "[encoded data removed]",
            "text/plain": [
              "<Figure size 432x288 with 1 Axes>"
            ]
          },
          "metadata": {
            "tags": []
          }
        }
      ]
    },
    {
      "metadata": {
        "id": "Hw6npq5bX7Ee",
        "colab_type": "text"
      },
      "cell_type": "markdown",
      "source": [
        "How do you find at what trial (experiment) motor neuron M does not respond on the sensory neuron S? In other words, at what trial sensory and motor neurons spikes are independent?"
      ]
    },
    {
      "metadata": {
        "id": "T-1aWiiDXVF7",
        "colab_type": "code",
        "outputId": "0fb95162-2665-47ce-c8a5-262ff7fe7a9c",
        "colab": {
          "base_uri": "https://localhost:8080/",
          "height": 179
        }
      },
      "cell_type": "code",
      "source": [
        "# One way to answer this question is by analyzing what information the motor\n",
        "# neuron M stores about the sensory neuron S. Low information indicates that\n",
        "# their activations are nearly independent.\n",
        "\n",
        "def discrete_entropy(digits) -> float:\n",
        "    \"\"\"\n",
        "    :param digits: realizations of a discrete random variable X\n",
        "    :return estimated entropy of X in bits\n",
        "    \"\"\"\n",
        "    unique, counts = np.unique(digits, return_counts=True)\n",
        "    proba = counts / len(digits)\n",
        "    entropy = sum(proba * np.log2(1 / proba))\n",
        "    return entropy\n",
        "\n",
        "\n",
        "def discrete_mutual_information(x, y) -> float:\n",
        "    \"\"\"\n",
        "    :param x: realizations of a discrete random variable X\n",
        "    :param y: realizations of a discrete random variable Y\n",
        "    :return: estimated mutual information between X and Y in bits\n",
        "    \"\"\"\n",
        "    entropy_x = discrete_entropy(x)\n",
        "    entropy_x_given_y = 0\n",
        "    for y_unique in np.unique(y):\n",
        "        mask = y == y_unique\n",
        "        x_given_y = x[mask]\n",
        "        entropy_x_given_y += discrete_entropy(x_given_y) * np.mean(mask)\n",
        "    info = entropy_x - entropy_x_given_y\n",
        "    return info\n",
        "\n",
        "\n",
        "def describe(sensory_spikes, motor_spikes, mode=''):\n",
        "    \"\"\"\n",
        "    Print entropy and mutual information between the sensory and motor neurons spikes.\n",
        "    \"\"\"\n",
        "    print(f\"\\t{mode}: H(Sensor) = {discrete_entropy(sensory_spikes):.4f}, \"\n",
        "          f\"H(Motor) = {discrete_entropy(motor_spikes):.4f}, \"\n",
        "          f\"I(Sensor; Motor) = {discrete_mutual_information(sensory_spikes, motor_spikes):.4f}\")\n",
        "\n",
        "\n",
        "mask_stimulation = np.zeros(sensory_spikes.shape[1], dtype=bool)\n",
        "mask_stimulation[STIMULI_START: STIMULI_START + STIMULI_DURATION] = True\n",
        "for trial, (s, m) in enumerate(zip(sensory_spikes, motor_spikes)):\n",
        "    print(f\"Trial {trial}: connection_strength = {SENSORY_MOTOR_STRENGTHS[trial]}\")\n",
        "    describe(s[mask_stimulation], m[mask_stimulation], mode='stimulation')\n",
        "    describe(s[~mask_stimulation], m[~mask_stimulation], mode='noise')"
      ],
      "execution_count": 2,
      "outputs": [
        {
          "output_type": "stream",
          "text": [
            "Trial 0: connection_strength = 0.9\n",
            "\tstimulation: H(Sensor) = 0.2603, H(Motor) = 0.2514, I(Sensor; Motor) = 0.2114\n",
            "\tnoise: H(Sensor) = 0.0364, H(Motor) = 0.0425, I(Sensor; Motor) = 0.0152\n",
            "Trial 1: connection_strength = 0.5\n",
            "\tstimulation: H(Sensor) = 0.3353, H(Motor) = 0.2423, I(Sensor; Motor) = 0.1620\n",
            "\tnoise: H(Sensor) = 0.0235, H(Motor) = 0.0166, I(Sensor; Motor) = 0.0054\n",
            "Trial 2: connection_strength = 0.05\n",
            "\tstimulation: H(Sensor) = 0.3274, H(Motor) = 0.0529, I(Sensor; Motor) = 0.0005\n",
            "\tnoise: H(Sensor) = 0.0364, H(Motor) = 0.0235, I(Sensor; Motor) = 0.0042\n"
          ],
          "name": "stdout"
        }
      ]
    },
    {
      "metadata": {
        "id": "bbmeSB0bcJXC",
        "colab_type": "text"
      },
      "cell_type": "markdown",
      "source": [
        "At the first trial, when neurons S and M were strongly connected, neuron M preserved 0.2114 bits out of 0.2514 possible. On the last trial, however, when the connection strength decreased to 0.05, neuron M preserved only 0.0011 bits out of 0.0322 possible.\n",
        "\n",
        "In this experiment we assumed that the neuron responses are completetly described by its firing rate and each trial is independent of the previous ones (has no memory). If it isn't the case, you should account inter-spikes intervals of the previous activations. Here are a few instruments:\n",
        "\n",
        "* Transfer entropy measures the information about the future state of a variable ($Y_{future}$) provided by another variable in the past ($X_{past}$) given the information provided by the past state of the variable ($Y_{past}$). Once these temporal relationships are defined, transfer entropy can be interpreted as a better measure of causal influence from $X$ to $Y$ than merely the mutual information between $X_{past}$ and $Y_{future}$, because transfer entropy measures the changes caused in $Y$ from $X$ that are not accounted for by the history of $Y$ alone \\[N. Timme, 2018]. Well suited for time-shifted responses.\n",
        "\n",
        "$$TE(X \\to Y) = I(Y_{future};X_{past}|Y_{past}) = H(Y_{future}|Y_{past}) - H(Y_{future}|X_{past},Y_{past})$$\n",
        "\n",
        "* [Perform analysis in the frequency domain](https://www.researchgate.net/publication/12774896_Information_theory_and_neural_coding). This approach is especially useful since, firstly, in most cases, neuron's firing frequency does not depend on the other frequencies of the same neuron and, secondly, you don't need to discretize time. You can compute how many information is transmitted at each frequency and sum up the results.\n",
        "* Binirize the rasters data in the smallest time resolution such that each bin has at most one spike count. Then count how many same subsequences of length $L$ are found in the full sequence of length $N > L$. You can compute entropy of the repeated _sequences_, not the firing rates. For example, in a sequence of 12 spikes $[[0, 0, 1, 0], [0, 0, 1, 0], [1, 0, 1, 0]]$ the first two subsequences are repeated. This might be a pattern."
      ]
    }
  ]
}