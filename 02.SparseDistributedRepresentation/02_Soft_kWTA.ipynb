{
  "nbformat": 4,
  "nbformat_minor": 0,
  "metadata": {
    "colab": {
      "name": "02.Soft-kWTA.ipynb",
      "version": "0.3.2",
      "provenance": [],
      "collapsed_sections": []
    },
    "kernelspec": {
      "name": "python3",
      "display_name": "Python 3"
    },
    "accelerator": "GPU"
  },
  "cells": [
    {
      "metadata": {
        "id": "CfyXTH-W-6XI",
        "colab_type": "text"
      },
      "cell_type": "markdown",
      "source": [
        "This document's link: https://colab.research.google.com/drive/1e8AYGMaIfywB3hau8hOvniIvn4JOvAcj\n",
        "\n",
        "# K-winners-take-all in Deep Learning\n",
        "\n",
        "The common way to achieve sparse representation in machine learning is done by constraining the sparsness of layers activations $\\pmb{a}$ by adding the term $\\lambda*S(\\pmb{a})$ to the cost function, where $S(\\pmb{a})$ measures the sparseness of the representation and $\\lambda$ is a constant factor that weights how sparse the representation should be relative to the reconstruction error. We won't use this approach in the current research since we want our representation to be not only sparse but binary as well. Instead, we'll use _k-winners-take-all_ activation function (kWTA), described in the previous section ([link](https://colab.research.google.com/drive/1GEoQnlalGtxDLSzkmmUSo5ulZg2RbtVe)), to train deep neural networks.\n",
        "\n",
        "Please implement the forward pass of kWTA activation function in pytorch. For the backward pass, assume that nothing happened."
      ]
    },
    {
      "metadata": {
        "id": "HkYUX7B2-h0M",
        "colab_type": "code",
        "outputId": "63625a7c-9a05-47d4-ed5e-ea3e3f19837b",
        "colab": {
          "base_uri": "https://localhost:8080/",
          "height": 577
        }
      },
      "cell_type": "code",
      "source": [
        "# install pytorch and torchvision\n",
        "!pip install torch==1.0.0 torchvision==0.2.1\n",
        "!pip install pillow==4.1.1  # colab pillow issues\n",
        "# please restart the runtime afterwards"
      ],
      "execution_count": 0,
      "outputs": [
        {
          "output_type": "stream",
          "text": [
            "Requirement already satisfied: torch==1.0.0 in /usr/local/lib/python3.6/dist-packages (1.0.0)\n",
            "Requirement already satisfied: torchvision==0.2.1 in /usr/local/lib/python3.6/dist-packages (0.2.1)\n",
            "Collecting pillow>=4.1.1 (from torchvision==0.2.1)\n",
            "\u001b[?25l  Downloading https://files.pythonhosted.org/packages/85/5e/e91792f198bbc5a0d7d3055ad552bc4062942d27eaf75c3e2783cf64eae5/Pillow-5.4.1-cp36-cp36m-manylinux1_x86_64.whl (2.0MB)\n",
            "\u001b[K    100% |████████████████████████████████| 2.0MB 14.1MB/s \n",
            "\u001b[?25hRequirement already satisfied: numpy in /usr/local/lib/python3.6/dist-packages (from torchvision==0.2.1) (1.14.6)\n",
            "Requirement already satisfied: six in /usr/local/lib/python3.6/dist-packages (from torchvision==0.2.1) (1.11.0)\n",
            "Installing collected packages: pillow\n",
            "  Found existing installation: Pillow 4.0.0\n",
            "    Uninstalling Pillow-4.0.0:\n",
            "      Successfully uninstalled Pillow-4.0.0\n",
            "Successfully installed pillow-5.4.1\n"
          ],
          "name": "stdout"
        },
        {
          "output_type": "display_data",
          "data": {
            "application/vnd.colab-display-data+json": {
              "pip_warning": {
                "packages": [
                  "PIL"
                ]
              }
            }
          },
          "metadata": {
            "tags": []
          }
        },
        {
          "output_type": "stream",
          "text": [
            "Collecting pillow==4.1.1\n",
            "\u001b[?25l  Downloading https://files.pythonhosted.org/packages/36/e5/88b3d60924a3f8476fa74ec086f5fbaba56dd6cee0d82845f883b6b6dd18/Pillow-4.1.1-cp36-cp36m-manylinux1_x86_64.whl (5.7MB)\n",
            "\u001b[K    100% |████████████████████████████████| 5.7MB 7.7MB/s \n",
            "\u001b[?25hRequirement already satisfied: olefile in /usr/local/lib/python3.6/dist-packages (from pillow==4.1.1) (0.46)\n",
            "Installing collected packages: pillow\n",
            "  Found existing installation: Pillow 5.4.1\n",
            "    Uninstalling Pillow-5.4.1:\n",
            "      Successfully uninstalled Pillow-5.4.1\n",
            "Successfully installed pillow-4.1.1\n"
          ],
          "name": "stdout"
        },
        {
          "output_type": "display_data",
          "data": {
            "application/vnd.colab-display-data+json": {
              "pip_warning": {
                "packages": [
                  "PIL"
                ]
              }
            }
          },
          "metadata": {
            "tags": []
          }
        }
      ]
    },
    {
      "metadata": {
        "id": "zN-Y-f1GColh",
        "colab_type": "code",
        "colab": {}
      },
      "cell_type": "code",
      "source": [
        "import torch\n",
        "import math\n",
        "\n",
        "\n",
        "class KWinnersTakeAllFunction(torch.autograd.Function):\n",
        "\n",
        "    @staticmethod\n",
        "    def forward(ctx, tensor, sparsity: float):\n",
        "        \"\"\"\n",
        "        :param tensor: (B, N) input tensor\n",
        "        :param sparsity: kWTA sparsity (a constant)\n",
        "        :return: binary SDR of the input tensor\n",
        "        \"\"\"\n",
        "        # your code goes here\n",
        "        return tensor\n",
        "\n",
        "    @staticmethod\n",
        "    def backward(ctx, grad_output):\n",
        "        \"\"\" \n",
        "        Pretend that nothing happened.\n",
        "        Pass the gradient as if we didn't apply kWTA.\n",
        "        None goes for sparsity, which is constant.\n",
        "        \"\"\"\n",
        "        return grad_output, None\n",
        "\n",
        "\n",
        "class KWinnersTakeAll(torch.nn.Module):\n",
        "\n",
        "    def __init__(self, sparsity=0.05):\n",
        "        \"\"\"\n",
        "        :param sparsity: how many bits leave active\n",
        "        \"\"\"\n",
        "        super().__init__()\n",
        "        assert 0. <= sparsity <= 1., \"Sparsity should lie in (0, 1) interval\"\n",
        "        self.sparsity = sparsity\n",
        "\n",
        "    def forward(self, x):\n",
        "        x = KWinnersTakeAllFunction.apply(x, self.sparsity)\n",
        "        return x\n",
        "\n",
        "    def extra_repr(self):\n",
        "        return f'sparsity={self.sparsity}'\n"
      ],
      "execution_count": 0,
      "outputs": []
    },
    {
      "metadata": {
        "id": "jI1TJj3bHBXA",
        "colab_type": "code",
        "colab": {}
      },
      "cell_type": "code",
      "source": [
        "\"\"\"\n",
        "Sketch to initialize a trainer with MLP.\n",
        "You can run and skip this section.\n",
        "\"\"\"\n",
        "\n",
        "from collections import namedtuple, defaultdict\n",
        "\n",
        "import matplotlib.pyplot as plt\n",
        "import numpy as np\n",
        "import torch\n",
        "import torch.nn as nn\n",
        "import torch.utils.data\n",
        "from torchvision import transforms, datasets\n",
        "\n",
        "torch.random.manual_seed(26)\n",
        "np.random.seed(26)\n",
        "\n",
        "DATA_DIR = 'data'\n",
        "BATCH_SIZE = 256\n",
        "\n",
        "DatasetInfo = namedtuple(\"DatsetInfo\", ('class_', 'image_size', 'mean', 'std'))\n",
        "\n",
        "DATASET_INFO = {\n",
        "    \"MNIST\": DatasetInfo(class_=datasets.MNIST, image_size=28, mean=[0.1307], std=[0.1932]),\n",
        "    \"CIFAR10\": DatasetInfo(class_=datasets.CIFAR10, image_size=32, mean=[0.5, 0.5, 0.5], std=[0.25, 0.25, 0.25]),\n",
        "}\n",
        "\n",
        "\n",
        "def get_data_loader(dataset_str: str, train=True, normalize=True, shuffle=True):\n",
        "    dataset_info = DATASET_INFO[dataset_str]\n",
        "    transform = [transforms.ToTensor()]\n",
        "    if normalize:\n",
        "        transform.append(transforms.Normalize(mean=dataset_info.mean, std=dataset_info.std))\n",
        "    dataset = dataset_info.class_(DATA_DIR, train=train, download=True, transform=transforms.Compose(transform))\n",
        "    loader = torch.utils.data.DataLoader(dataset, batch_size=BATCH_SIZE, shuffle=shuffle, num_workers=0)\n",
        "    return loader\n",
        "\n",
        "\n",
        "class MLP(nn.Module):\n",
        "\n",
        "    def __init__(self, *fc_sizes: int):\n",
        "        \"\"\"\n",
        "        :param fc_sizes: fully-connected layer sizes\n",
        "        \"\"\"\n",
        "        super().__init__()\n",
        "        fc_sizes = list(fc_sizes)\n",
        "        n_classes = fc_sizes.pop()\n",
        "        classifier = []\n",
        "        for in_features, out_features in zip(fc_sizes[:-1], fc_sizes[1:]):\n",
        "            linear = nn.Linear(in_features=in_features, out_features=out_features)\n",
        "            classifier.append(linear)\n",
        "            classifier.append(nn.ReLU(inplace=True))\n",
        "        classifier.append(nn.Linear(in_features=fc_sizes[-1], out_features=n_classes))\n",
        "        self.classifier = nn.Sequential(*classifier)\n",
        "\n",
        "    def forward(self, x):\n",
        "        x = x.flatten(start_dim=1)\n",
        "        x = self.classifier(x)\n",
        "        return x\n",
        "\n",
        "    \n",
        "def full_forward_pass(model: nn.Module, loader: torch.utils.data.DataLoader):\n",
        "    use_cuda = torch.cuda.is_available()\n",
        "    outputs_full = []\n",
        "    labels_full = []\n",
        "    mode = model.training\n",
        "    model.eval()\n",
        "    with torch.no_grad():\n",
        "        for inputs, labels in iter(loader):\n",
        "            if use_cuda:\n",
        "                inputs = inputs.cuda()\n",
        "            outputs = model(inputs)\n",
        "            outputs_full.append(outputs.cpu())\n",
        "            labels_full.append(labels)\n",
        "            if len(outputs_full) * BATCH_SIZE > 10000:\n",
        "                break\n",
        "    model.train(mode)\n",
        "    outputs_full = torch.cat(outputs_full, dim=0)\n",
        "    labels_full = torch.cat(labels_full, dim=0)\n",
        "    return outputs_full, labels_full\n",
        "\n",
        "\n",
        "class Trainer:\n",
        "\n",
        "    def __init__(self, model: nn.Module, dataset_str: str, criterion=nn.CrossEntropyLoss()):\n",
        "        if torch.cuda.is_available():\n",
        "            model = model.cuda()\n",
        "        self.model = model\n",
        "        self.train_loader = get_data_loader(dataset_str, train=True)\n",
        "        self.test_loader = get_data_loader(dataset_str, train=False)\n",
        "        self.optimizer = torch.optim.Adam(self.model.parameters(), lr=1e-3)\n",
        "        self.criterion = criterion\n",
        "\n",
        "    def save(self, outputs_train, labels_train):\n",
        "        pass\n",
        "\n",
        "    def calc_accuracy(self, outputs, labels_true) -> float:\n",
        "        labels_predicted = outputs.argmax(dim=1)\n",
        "        accuracy = (labels_true == labels_predicted).type(torch.float32).mean()\n",
        "        return accuracy.item()\n",
        "\n",
        "    def train(self, n_epochs=10):\n",
        "        accuracy_train = []\n",
        "        accuracy_test = []\n",
        "        loss_train = []\n",
        "        use_cuda = torch.cuda.is_available()\n",
        "        print(f\"Training {self.model}\")\n",
        "        for epoch in range(1, n_epochs + 1):\n",
        "            for batch_id, (images, labels) in enumerate(iter(self.train_loader)):\n",
        "                if use_cuda:\n",
        "                    images = images.cuda()\n",
        "                    labels = labels.cuda()\n",
        "                self.optimizer.zero_grad()\n",
        "                outputs = self.model(images)\n",
        "                loss = self.criterion(outputs, labels)\n",
        "                loss.backward()\n",
        "                self.optimizer.step(closure=None)\n",
        "            outputs_train, labels_train = full_forward_pass(self.model, self.train_loader)\n",
        "            outputs_test, labels_test = full_forward_pass(self.model, self.test_loader)\n",
        "            self.save(outputs_train, labels_train)\n",
        "            loss_train.append(self.criterion(outputs_train, labels_train).item())\n",
        "            accuracy_train.append(self.calc_accuracy(outputs_train, labels_train))\n",
        "            accuracy_test.append(self.calc_accuracy(outputs_test, labels_test))\n",
        "            print(f\"Epoch {epoch} / {n_epochs}: Accuracy train={accuracy_train[-1]:.3f}, test={accuracy_test[-1]:.3f}; \"\n",
        "                  f\"Loss={loss_train[-1]:.3f}\")\n",
        "\n",
        "        plt.subplot(121)\n",
        "        plt.plot(range(n_epochs), accuracy_train, label='train', marker='o')\n",
        "        plt.plot(range(n_epochs), accuracy_test, label='test', marker='o')\n",
        "        plt.legend()\n",
        "        plt.title(\"Accuracy\")\n",
        "        plt.xlabel(\"Epoch\")\n",
        "        plt.subplot(122)\n",
        "        plt.plot(range(n_epochs), loss_train, marker='o')\n",
        "        plt.title(\"Train loss\")\n",
        "        plt.xlabel(\"Epoch\")\n",
        "        plt.show()\n"
      ],
      "execution_count": 0,
      "outputs": []
    },
    {
      "metadata": {
        "id": "1IRJNarIUT0q",
        "colab_type": "code",
        "outputId": "d5e52eac-b7e0-4640-a177-444c01f1bc08",
        "colab": {
          "base_uri": "https://localhost:8080/",
          "height": 790
        }
      },
      "cell_type": "code",
      "source": [
        "# train a regular MLP on MNIST\n",
        "Trainer(model=MLP(784, 128, 10), dataset_str=\"MNIST\").train(n_epochs=10)"
      ],
      "execution_count": 0,
      "outputs": [
        {
          "output_type": "stream",
          "text": [
            "Downloading http://yann.lecun.com/exdb/mnist/train-images-idx3-ubyte.gz\n",
            "Downloading http://yann.lecun.com/exdb/mnist/train-labels-idx1-ubyte.gz\n",
            "Downloading http://yann.lecun.com/exdb/mnist/t10k-images-idx3-ubyte.gz\n",
            "Downloading http://yann.lecun.com/exdb/mnist/t10k-labels-idx1-ubyte.gz\n",
            "Processing...\n",
            "Done!\n",
            "Training MLP(\n",
            "  (classifier): Sequential(\n",
            "    (0): Linear(in_features=784, out_features=128, bias=True)\n",
            "    (1): ReLU(inplace)\n",
            "    (2): Linear(in_features=128, out_features=10, bias=True)\n",
            "  )\n",
            ")\n",
            "Epoch 1 / 10: Accuracy train=0.952, test=0.951; Loss=0.164\n",
            "Epoch 2 / 10: Accuracy train=0.966, test=0.963; Loss=0.113\n",
            "Epoch 3 / 10: Accuracy train=0.978, test=0.970; Loss=0.075\n",
            "Epoch 4 / 10: Accuracy train=0.984, test=0.975; Loss=0.056\n",
            "Epoch 5 / 10: Accuracy train=0.987, test=0.976; Loss=0.045\n",
            "Epoch 6 / 10: Accuracy train=0.987, test=0.975; Loss=0.043\n",
            "Epoch 7 / 10: Accuracy train=0.992, test=0.978; Loss=0.030\n",
            "Epoch 8 / 10: Accuracy train=0.993, test=0.978; Loss=0.025\n",
            "Epoch 9 / 10: Accuracy train=0.992, test=0.976; Loss=0.027\n",
            "Epoch 10 / 10: Accuracy train=0.996, test=0.979; Loss=0.017\n"
          ],
          "name": "stdout"
        },
        {
          "output_type": "display_data",
          "data": {
            "image/png": "[encoded data removed]",
            "text/plain": [
              "<Figure size 576x396 with 2 Axes>"
            ]
          },
          "metadata": {
            "tags": []
          }
        }
      ]
    },
    {
      "metadata": {
        "id": "k547ya6jVsjV",
        "colab_type": "text"
      },
      "cell_type": "markdown",
      "source": [
        "## SDR embedding vector\n",
        "\n",
        "\n",
        "Now we add kWTA on top of the last layer to get sparse binary distributed representation. Let's call it SDR embedding vector. We'll train such an embedder with TripletLoss and cosine metric (L1 and L2 also work to less extent)."
      ]
    },
    {
      "metadata": {
        "id": "WdGOQmggXstP",
        "colab_type": "code",
        "colab": {}
      },
      "cell_type": "code",
      "source": [
        "import torch\n",
        "import torch.nn as nn\n",
        "import torch.nn.functional as F\n",
        "import matplotlib.pyplot as plt\n",
        "\n",
        "\n",
        "class TripletLoss(nn.Module):\n",
        "\n",
        "    def __init__(self, margin=0.5):\n",
        "        \"\"\"\n",
        "        :param margin: TripletLoss margin\n",
        "        \"\"\"\n",
        "        super().__init__()\n",
        "        self.margin = margin\n",
        "\n",
        "    def extra_repr(self):\n",
        "        return f'margin={self.margin}'\n",
        "\n",
        "    @staticmethod\n",
        "    def pairs_to_sample(labels):\n",
        "        \"\"\"\n",
        "        Probability of two random samples belonging to the same class\n",
        "          is 1/n_classes.\n",
        "        On average, each sample in a batch produces\n",
        "          1/n_classes * (1 - 1/n_classes) ~ 1/n_classes triplets.\n",
        "        :param labels: batch of labels\n",
        "        :return: how many random permutations to sample to get the desired number of triplets\n",
        "        \"\"\"\n",
        "        batch_size = len(labels)\n",
        "        n_unique = len(labels.unique(sorted=False))\n",
        "        random_pairs_shape = (n_unique * batch_size,)\n",
        "        return random_pairs_shape\n",
        "\n",
        "    def forward(self, outputs, labels):\n",
        "        \"\"\"\n",
        "        :param outputs: (B, D) embeddings tensor\n",
        "        :param labels: (B,) true labels\n",
        "        :return: triplet loss\n",
        "        \"\"\"\n",
        "        n_samples = len(outputs)\n",
        "        pairs_to_sample = self.pairs_to_sample(labels)\n",
        "        anchor = torch.randint(low=0, high=n_samples, size=pairs_to_sample, device=outputs.device)\n",
        "        same = torch.randint(low=0, high=n_samples, size=pairs_to_sample, device=outputs.device)\n",
        "        other = torch.randint(low=0, high=n_samples, size=pairs_to_sample, device=outputs.device)\n",
        "\n",
        "        triplets = (labels[anchor] == labels[same]) & (labels[anchor] != labels[other])\n",
        "        anchor = anchor[triplets]\n",
        "        same = same[triplets]\n",
        "        other = other[triplets]\n",
        "\n",
        "        dist_same = 1 - F.cosine_similarity(outputs[anchor], outputs[same], dim=1)\n",
        "        dist_other = 1 - F.cosine_similarity(outputs[anchor], outputs[other], dim=1)\n",
        "        loss = dist_same - dist_other + self.margin\n",
        "        loss = torch.relu(loss).mean()\n",
        "\n",
        "        return loss\n",
        "\n",
        "\n",
        "class AccuracyEmbedding:\n",
        "    \"\"\"\n",
        "    Calculates the accuracy for embedding vectors.\n",
        "    It finds the closest centroid for each sample.\n",
        "    \"\"\"\n",
        "\n",
        "    def __init__(self):\n",
        "        self.centroids = []\n",
        "\n",
        "    def distances(self, outputs_test):\n",
        "        \"\"\"\n",
        "        :param outputs_test: (B, D) embeddings tensor\n",
        "        :return: (B, n_classes) distance matrix to each centroid\n",
        "        \"\"\"\n",
        "        assert len(self.centroids) > 0, \"Save train embeddings first\"\n",
        "        centroids = torch.as_tensor(self.centroids, device=outputs_test.device)\n",
        "        centroids = centroids.unsqueeze(dim=0)  # (1, n_classes, D)\n",
        "        outputs_test = outputs_test.unsqueeze(dim=1)  # (B, 1, D)\n",
        "        distances = 1 - F.cosine_similarity(outputs_test, centroids, dim=2)\n",
        "        return distances\n",
        "\n",
        "    def save(self, outputs_train, labels_train):\n",
        "        outputs_train = outputs_train.detach()\n",
        "        self.centroids = []\n",
        "        for label in labels_train.unique(sorted=True):\n",
        "            self.centroids.append(outputs_train[labels_train == label].mean(dim=0))\n",
        "        self.centroids = torch.stack(self.centroids, dim=0).cpu()\n",
        "\n",
        "    def predict(self, outputs_test):\n",
        "        labels_predicted = self.distances(outputs_test).argmin(dim=1)\n",
        "        return labels_predicted\n",
        "    \n",
        "    def plot(self):\n",
        "        plt.imshow(self.centroids, aspect='auto')\n",
        "        plt.show()\n",
        "\n",
        "\n",
        "class TrainerEmbedder(Trainer):\n",
        "\n",
        "    def __init__(self, model: nn.Module, dataset_str: str, criterion=TripletLoss()):\n",
        "        super().__init__(model=model, dataset_str=dataset_str, criterion=criterion)\n",
        "        self.accuracy_measure = AccuracyEmbedding()\n",
        "\n",
        "    def save(self, outputs_train, labels_train):\n",
        "        self.accuracy_measure.save(outputs_train, labels_train)\n",
        "\n",
        "    def calc_accuracy(self, outputs, labels_true) -> float:\n",
        "        labels_predicted = self.accuracy_measure.predict(outputs)\n",
        "        accuracy = (labels_true == labels_predicted).type(torch.float32).mean()\n",
        "        return accuracy.item()\n"
      ],
      "execution_count": 0,
      "outputs": []
    },
    {
      "metadata": {
        "id": "AiMYk3qyNsqN",
        "colab_type": "code",
        "colab": {}
      },
      "cell_type": "code",
      "source": [
        "# now add kWTA on top of the last layer to get SDR embeddings\n",
        "\n",
        "kwta = KWinnersTakeAll(sparsity=0.05)\n",
        "model = nn.Sequential(MLP(784, 256, 128), kwta)\n",
        "\n",
        "TrainerEmbedder(model=model, dataset_str=\"MNIST\", criterion=TripletLoss()).train(n_epochs=10)"
      ],
      "execution_count": 0,
      "outputs": []
    },
    {
      "metadata": {
        "id": "JxFQRlTV-h4e",
        "colab_type": "text"
      },
      "cell_type": "markdown",
      "source": [
        "## Soft kWTA\n",
        "\n",
        "Although vanilla kWTA does achieve some accuracy on MNIST, it fails on other datasets, because we don't know how to implement its backward pass correctly. Since the gradient of the sign function is zero almost everywhere, we must resort to alternatives of the sign function. How to make it soft? What activation function does resemble sign at infinities?"
      ]
    },
    {
      "metadata": {
        "id": "VlFfC-bmAAp8",
        "colab_type": "code",
        "colab": {}
      },
      "cell_type": "code",
      "source": [
        "class KWinnersTakeAllSoft(KWinnersTakeAll):\n",
        "    \"\"\"\n",
        "    Soft implementation of kWTA.\n",
        "    \"\"\"\n",
        "\n",
        "    def forward(self, x):\n",
        "        if self.training:\n",
        "            # your code goes here\n",
        "            pass\n",
        "        else:\n",
        "            # at inference we want the output to be strictly binary\n",
        "            x = super().forward(x)\n",
        "        return x"
      ],
      "execution_count": 0,
      "outputs": []
    },
    {
      "metadata": {
        "id": "l2mqkQAvB7j_",
        "colab_type": "code",
        "colab": {}
      },
      "cell_type": "code",
      "source": [
        "# let's try our soft-kwta\n",
        "\n",
        "kwta = KWinnersTakeAllSoft(sparsity=0.05)\n",
        "model = nn.Sequential(MLP(784, 256, 128), kwta)\n",
        "\n",
        "trainer = TrainerEmbedder(model=model, dataset_str=\"MNIST\", criterion=TripletLoss())\n",
        "trainer.train(n_epochs=10)"
      ],
      "execution_count": 0,
      "outputs": []
    },
    {
      "metadata": {
        "id": "_7jNORK67LwY",
        "colab_type": "text"
      },
      "cell_type": "markdown",
      "source": [
        "One more nice thing about binary SDR embeddings is that they be easily visualized. Our embeddings should cluster in separable groups in the embedding space and we can easily check that by looking at their averaged activations (per class). Such a plot brings a lot of information about model accuracy, which will be hardly the case if you use dense floating point values."
      ]
    },
    {
      "metadata": {
        "id": "IC50KzqaF7kk",
        "colab_type": "code",
        "colab": {}
      },
      "cell_type": "code",
      "source": [
        "trainer.accuracy_measure.plot()  # show embeddings mean"
      ],
      "execution_count": 0,
      "outputs": []
    },
    {
      "metadata": {
        "id": "8lkGeo1AIlnB",
        "colab_type": "code",
        "outputId": "8dddfd40-5b1c-4ca2-d03b-d25e4252d5d0",
        "colab": {
          "base_uri": "https://localhost:8080/",
          "height": 682
        }
      },
      "cell_type": "code",
      "source": [
        "# you can compare soft-kwta results with dense real-valued embeddings\n",
        "# and make sure that the accuracy doesn't suffer much if we apply binarization\n",
        "TrainerEmbedder(model=MLP(784, 256, 128), dataset_str=\"MNIST\", criterion=TripletLoss()).train(n_epochs=10)"
      ],
      "execution_count": 0,
      "outputs": [
        {
          "output_type": "stream",
          "text": [
            "Training MLP(\n",
            "  (classifier): Sequential(\n",
            "    (0): Linear(in_features=784, out_features=256, bias=True)\n",
            "    (1): ReLU(inplace)\n",
            "    (2): Linear(in_features=256, out_features=128, bias=True)\n",
            "  )\n",
            ")\n",
            "Epoch 1 / 10: Accuracy train=0.942, test=0.939; Loss=0.031\n",
            "Epoch 2 / 10: Accuracy train=0.959, test=0.957; Loss=0.021\n",
            "Epoch 3 / 10: Accuracy train=0.965, test=0.960; Loss=0.017\n",
            "Epoch 4 / 10: Accuracy train=0.971, test=0.964; Loss=0.014\n",
            "Epoch 5 / 10: Accuracy train=0.975, test=0.968; Loss=0.012\n",
            "Epoch 6 / 10: Accuracy train=0.978, test=0.969; Loss=0.010\n",
            "Epoch 7 / 10: Accuracy train=0.978, test=0.971; Loss=0.010\n",
            "Epoch 8 / 10: Accuracy train=0.979, test=0.973; Loss=0.009\n",
            "Epoch 9 / 10: Accuracy train=0.981, test=0.968; Loss=0.008\n",
            "Epoch 10 / 10: Accuracy train=0.983, test=0.973; Loss=0.007\n"
          ],
          "name": "stdout"
        },
        {
          "output_type": "display_data",
          "data": {
            "image/png": "[encoded data removed]",
            "text/plain": [
              "<Figure size 576x396 with 2 Axes>"
            ]
          },
          "metadata": {
            "tags": []
          }
        }
      ]
    },
    {
      "metadata": {
        "id": "yw0yl37tCcf1",
        "colab_type": "text"
      },
      "cell_type": "markdown",
      "source": [
        "More examples of soft kWTA, added on top of VGG, DenseNet, ResNet, MobileNet on CIFAR10 and Caltech256 datasets, you can find at http://ec2-18-234-90-227.compute-1.amazonaws.com:8097. Give your browser a few minutes to parse the json data.\n",
        "\n",
        "\n",
        "## Conclusion\n",
        "\n",
        "Now you know a simple way to get sparse binary distributed representation of your data in deep learning framework. The amazing part of it is that, once you get SDR, you forget about deep learning and take the ideas from neuroscience to move forward. And you're ready to explore it.\n",
        "\n",
        "For example, you could try associating two subsequent frames in a video, using the method, described above, to obtain SDR of an image and then associate it with the SDR of the next frame, using the knowldege you obtained in the previous tutorial about Willshaw's associative memory. One of the major problems that I don't know how to solve is how to get SDR in unsupervised local fashion (no backprop). Maybe, you can get it with Willshaw's associative rules as well by exploring the parts of the scene (image) with saccades (attention jumps) and then associating these parts in one SDR of the whole image.\n",
        "\n",
        "Another thrilling example are math operations on binary SDRs: their union, intersection, and difference might create new interesting SDRs. It's like GAN but... binary. For example, an image of the dog `0010001000011` on the grass `0000101001010` can be represented as the union of their representations - `0010101001011`. At the same time, a dog's SDR might consist of its underlying representations (fur, feet, tail, etc.)."
      ]
    }
  ]
}