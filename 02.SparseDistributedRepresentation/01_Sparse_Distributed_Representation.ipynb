{
  "nbformat": 4,
  "nbformat_minor": 0,
  "metadata": {
    "colab": {
      "name": "01.Sparse-Distributed-Representation.ipynb",
      "version": "0.3.2",
      "provenance": [],
      "collapsed_sections": []
    },
    "kernelspec": {
      "name": "python3",
      "display_name": "Python 3"
    },
    "accelerator": "GPU"
  },
  "cells": [
    {
      "metadata": {
        "id": "esqA3oL7w2tz",
        "colab_type": "text"
      },
      "cell_type": "markdown",
      "source": [
        "This document's link: https://colab.research.google.com/drive/1GEoQnlalGtxDLSzkmmUSo5ulZg2RbtVe\n",
        "\n",
        "\n",
        "# Sparse binary Distributed Representation\n",
        "\n",
        "A *sparse* vector is a vector in which most of the elements are zero.\n",
        "\n",
        "A *binary sparse* vector is a vector in which most of the elements are zero and the remaining elements are ones.\n",
        "\n",
        "The representation is *distributed* when each unit is involved in coding more than one familiar “thing”, and consequently, from a neuroscience perspective, the identity of a stimulus cannot be determined from the activation of a single unit."
      ]
    },
    {
      "metadata": {
        "id": "TRtsYnqKyXO0",
        "colab_type": "code",
        "outputId": "4a256ac3-012f-43fa-acd6-62f066695b0a",
        "colab": {
          "base_uri": "https://localhost:8080/",
          "height": 71
        }
      },
      "cell_type": "code",
      "source": [
        "import numpy as np\n",
        "\n",
        "sparseness = 0.05  # 5% of cells are active, on average\n",
        "\n",
        "sdr = np.random.binomial(n=1, p=sparseness, size=100)  # binary SDR\n",
        "print(sdr)\n"
      ],
      "execution_count": 0,
      "outputs": [
        {
          "output_type": "stream",
          "text": [
            "[0 0 0 0 0 0 1 0 0 0 0 0 0 0 0 0 0 0 0 1 0 0 0 0 0 0 0 0 0 0 0 0 0 0 0 0 0\n",
            " 0 0 0 0 0 1 0 0 0 1 0 0 0 0 0 0 0 0 0 0 0 0 0 0 0 0 0 0 0 0 0 0 0 1 0 0 0\n",
            " 0 0 0 0 0 0 0 0 0 0 0 0 0 0 0 0 0 0 0 0 0 0 0 0 0 0]\n"
          ],
          "name": "stdout"
        }
      ]
    },
    {
      "metadata": {
        "id": "APNtR1Nc7nJJ",
        "colab_type": "text"
      },
      "cell_type": "markdown",
      "source": [
        "## How to form Sparse binary Distributed Representation (SDR)\n",
        "\n",
        "The computational model of having binary SDR comes from neurobiology, where it has been shown that in our brain only a small fraction of neurons are active each time ([Young & Yamane, 1992](https://www.ncbi.nlm.nih.gov/pubmed/1598577)). Since neurons activations are physically constrained to either fire (logical 1) or not (logical 0), it makes sense to investigate what advantages, if any, such data representation leverages over commonly used dense coding.\n",
        "\n",
        "**From this point, I'll drop the word \"binary\" and will use just SDR, meaning that it's binary SDR.**\n",
        "\n",
        "The simplest way to achieve SDR is with *k-winners-take-all* (kWTA) algorithm, which consists of three steps:\n",
        "\n",
        "1. Find $k$ largest values in the input array.\n",
        "2. Set them to one, if you want your output values to be binary.\n",
        "3. Set the rest elements to zero.\n",
        "\n",
        "For example, `kWTA([7.1, 0.0, -2.3, 9.8, 4.5, 0.7], k=3) == [1, 0, 0, 1, 1, 0]`\n",
        "\n",
        "\n"
      ]
    },
    {
      "metadata": {
        "id": "8WG1q69MNwYi",
        "colab_type": "code",
        "outputId": "56250719-6e41-4cf7-d06b-03ce902a9ffd",
        "colab": {
          "base_uri": "https://localhost:8080/",
          "height": 34
        }
      },
      "cell_type": "code",
      "source": [
        "import numpy as np\n",
        "\n",
        "\n",
        "def kWTA(vector, k):\n",
        "    \"\"\"\n",
        "    :param vector: array-like vector of real values\n",
        "    :param k: (int) num. of active units to keep\n",
        "    :return: binary SDR with the top `k` elements set to 1 and the rest to 0\n",
        "    \"\"\"\n",
        "    # your code goes here\n",
        "    return vector\n",
        "\n",
        "\n",
        "print(kWTA([7.1, 0.0, -2.3, 9.8, 4.5, 0.7], k=3))"
      ],
      "execution_count": 0,
      "outputs": [
        {
          "output_type": "stream",
          "text": [
            "[1 0 0 1 1 0]\n"
          ],
          "name": "stdout"
        }
      ]
    },
    {
      "metadata": {
        "id": "0Z0JXHLpNw48",
        "colab_type": "text"
      },
      "cell_type": "markdown",
      "source": [
        "kWTA implicitly models inhibition process by selecting the most $k$ activate neurons from a population that, once become active, inhibit the rest of neurons. From a computational perspective, this algorithm is simple and can be implemented efficiently.\n",
        "\n",
        "But if directly apply this algorithm to a dense vector (a vector in which most of the values are nonzero), we lose $1-{k \\over n}$ information. When $k \\ll n$, which is our case, we lose almost all the information. To overcome this problem, we do dimensionality expansion $X \\to Y$, where $\\text{dim}(Y) \\gg \\text{dim}(X)$. Then, if the representation in $Y$ is distributed, each neuron carries a little information about *all* input neurons, and a group of active units in $Y$ is able to restore the input data $X$.\n",
        "\n",
        "The simplest and cruelest way to do dimensionality expansion is to multiply the input by a large random weight matrix $\\pmb{W}$ and apply kWTA:\n",
        "\n",
        "$\\pmb{y} = \\text{kWTA}(\\pmb{Wx}, k)$\n",
        "\n",
        "### Inverse kWTA\n",
        "\n",
        "To illustrate that this actually works, I'll show you one nice thing about kWTA - the inverse of kWTA function is also kWTA! This is true when the information, stored in the input, is represented by the neurons with positive values:\n",
        "\n",
        "If $\\pmb{x}$ is a binary vector and $\\pmb{y} = \\text{kWTA}(\\pmb{Wx},k)$ such that $\\text{dim}(\\pmb{y}) \\gg \\text{dim}(\\pmb{x})$, then $\\pmb{x_{reconstructed}} = \\text{kWTA}(\\pmb{W^Ty}, k_{input}) \\approx \\pmb{x}$, where $k$ can be any small value and $k_{input}$ should match the sparsness of the (dense) input data."
      ]
    },
    {
      "metadata": {
        "id": "1Nug9HdIdusj",
        "colab_type": "code",
        "outputId": "370ff396-a95a-4b8d-ce30-fad3785f0664",
        "colab": {
          "base_uri": "https://localhost:8080/",
          "height": 51
        }
      },
      "cell_type": "code",
      "source": [
        "# install MNIST data loader\n",
        "!pip install mnist==0.2.2"
      ],
      "execution_count": 0,
      "outputs": [
        {
          "output_type": "stream",
          "text": [
            "Requirement already satisfied: mnist==0.2.2 in /usr/local/lib/python3.6/dist-packages (0.2.2)\n",
            "Requirement already satisfied: numpy in /usr/local/lib/python3.6/dist-packages (from mnist==0.2.2) (1.14.6)\n"
          ],
          "name": "stdout"
        }
      ]
    },
    {
      "metadata": {
        "id": "gtmo0VgEd1P2",
        "colab_type": "code",
        "outputId": "613304ae-b41a-4cec-f2a8-a3baba239078",
        "colab": {
          "base_uri": "https://localhost:8080/",
          "height": 194
        }
      },
      "cell_type": "code",
      "source": [
        "import mnist\n",
        "import random\n",
        "import math\n",
        "import matplotlib.pyplot as plt\n",
        "from functools import lru_cache\n",
        "\n",
        "\n",
        "images = mnist.train_images()\n",
        "\n",
        "\n",
        "@lru_cache(maxsize=32, typed=False)\n",
        "def factors_root(number: int):\n",
        "    \"\"\"\n",
        "    :param number: an integer value\n",
        "    :return: two integer factors, closest to the square root of the input\n",
        "    \"\"\"\n",
        "    root = int(math.sqrt(number))\n",
        "    for divisor in range(root, 0, -1):\n",
        "        if number % divisor == 0:\n",
        "            return divisor, number // divisor\n",
        "    return 1, number\n",
        "\n",
        "\n",
        "def kwta_inverse(sdr_size=10000, sparsity=0.05):\n",
        "    \"\"\"\n",
        "    :param sdr_size: size of the SDR encoding of the input data\n",
        "    :param sparsity: SDR vector sparsity\n",
        "    \"\"\"\n",
        "    image = random.choice(images)\n",
        "\n",
        "    # num of active units in encoded SDR vector\n",
        "    k_active = math.ceil(kwta_size * sparsity)\n",
        "    # num of active units in the input image\n",
        "    k_active_input = np.count_nonzero(image)\n",
        "    \n",
        "    # random weights matrix; any distribution works\n",
        "    weights = np.random.binomial(n=1, p=sparsity, size=(sdr_size, image.size))\n",
        "    # weights = np.random.randn(sdr_size, image.size)\n",
        "    \n",
        "    # encoded SDR vector of the image\n",
        "    sdr = kWTA(weights.dot(image.flatten()), k=k_active)\n",
        "    \n",
        "    # image, restored from its SDR\n",
        "    image_restored = kWTA(weights.T.dot(sdr), k=k_active_input)\n",
        "    image_restored = image_restored.reshape(image.shape)\n",
        "    \n",
        "    return image, sdr, image_restored\n",
        "\n",
        "\n",
        "def show_kwta_inverse():\n",
        "    image, sdr, image_restored = kwta_inverse()\n",
        "    \n",
        "    # reshape to a square image\n",
        "    sdr = sdr.reshape(factors_root(sdr.size))\n",
        "    \n",
        "    plt.subplot(131)\n",
        "    plt.title(\"Original\")\n",
        "    plt.grid(False)\n",
        "    plt.imshow(image)\n",
        "    \n",
        "    plt.subplot(132)\n",
        "    plt.title(\"SDR encoded\")\n",
        "    plt.grid(False)\n",
        "    plt.imshow(sdr)\n",
        "    \n",
        "    plt.subplot(133)\n",
        "    plt.title(\"Restored\")\n",
        "    plt.grid(False)\n",
        "    plt.imshow(image_restored)\n",
        "    plt.show()\n",
        "\n",
        "    \n",
        "show_kwta_inverse()\n"
      ],
      "execution_count": 0,
      "outputs": [
        {
          "output_type": "display_data",
          "data": {
            "image/png": "[encoded data removed]",
            "text/plain": [
              "<Figure size 576x396 with 3 Axes>"
            ]
          },
          "metadata": {
            "tags": []
          }
        }
      ]
    },
    {
      "metadata": {
        "id": "Umk8KvoUqV0J",
        "colab_type": "text"
      },
      "cell_type": "markdown",
      "source": [
        "If we apply kWTA directly to the input data, we lose $\\approx 1 - {k \\over {k_{input}}} $ bits unless we use a strategy, different from keeping top $k$ values only. For MNIST data, one of such sophistaced strategies could be selecting $k$ points with equally distributed distances between each other.\n",
        "\n",
        "### Random-kWTA forms translation _variant_ representation\n",
        "\n",
        "Although multiplying by a large random matrix and taking top $k$ values does make binary sparse distributed representation, it suffers from any transformations: rotation, translation, shear, scale, etc. One of the properties that any embedding vector should have is similarity to small input changes. To make SDRs transformation invariant, the weights matrix has to be learnable. And this is the topic of the next [section](https://colab.research.google.com/drive/1e8AYGMaIfywB3hau8hOvniIvn4JOvAcj), where we add kWTA on top of a regular neural network."
      ]
    },
    {
      "metadata": {
        "id": "-8hOuAwx7XDJ",
        "colab_type": "text"
      },
      "cell_type": "markdown",
      "source": [
        "\n",
        "## Willshaw's associative memory\n",
        "\n",
        "One of the simplest Hebbian-like learning rules is Willshaw's associative memory.\n",
        "\n",
        "Say you want to store a sequence of events in a memory such that one event retrieves all subsequent events. Or your data come from different modalities, visual (image) and audio inputs, and you want to connect visual data with audio such that, when a particular image is presentent, the appropriate audio sound is retrieved or vice versa.\n",
        "\n",
        "Let visual and audio information is encoded in sparse binary vectors $\\pmb{x}$ and $\\pmb{y}$ respectively. Then, an event  $E$ of explosion might be encoded as a union $E = \\{ \\pmb{x}, \\pmb{y} \\}$. Now we want to write this event in a memory in such a way that the sound of an explosion $\\pmb{y}$ retrieves the encoding of visual image $\\pmb{x}$. Let $\\otimes$ denotes the outer product between two vectors. Then, since\n",
        "\n",
        "$(\\pmb{x} \\otimes \\pmb{y}) \\pmb{y} = \\pmb{x} * (\\pmb{y}\\pmb{y^T}) \\propto \\pmb{x}$,\n",
        "\n",
        "we can create an update rule for the memory matrix $\\pmb{W}$:\n",
        "\n",
        "$\\pmb{W} = \\pmb{W} + \\pmb{x} \\otimes \\pmb{y}$\n",
        "\n",
        "In Willshaw's model, elements of $\\pmb{W}$ are constrained to be either 0 or 1. So we apply a unit step function:\n",
        "\n",
        "$\\pmb{W} = \\Theta(\\pmb{W})$,\n",
        "\n",
        "where $\\Theta(x) = 1 ~~ \\text{if} ~~ x > 0$; otherwise it is zero.\n",
        "\n",
        "To retrieve $\\pmb{x}$ when $\\pmb{y}$ is present,\n",
        "\n",
        "$\\pmb{x} = \\Theta(\\pmb{W} \\pmb{y})$\n",
        "\n",
        "\n",
        "Events $\\pmb{x}$ and $\\pmb{y}$ should not necessarily represent different modalities. The same mechanism applies for time related events:\n",
        "\n",
        "$\\pmb{W} =\\Theta( \\pmb{W} + \\pmb{x_{t-1}} \\otimes \\pmb{x_t})$\n",
        "\n",
        "The update rule is local and, therefore, biologically plausible. The matrix elements are constrained to be binary on purpose - to increase the capacity of the model - the number of stored and correctly retrieved patterns per one bit. In machine learning, it's common to use dense float matricies. To make the comparison between Willshaw's model and a regular dense real-valued matrices, we need to increase the number of bits in Willshaw's model (not shown here).\n",
        "\n",
        "\n",
        "WIth the ability to merge subsequent SDRs in one vector (word's representation as a generalization of a sequence of letters), we can predict the future at the arbitrary time moment $T$. There are two common ways to achive that:\n",
        " \n",
        "1. Recursive step-by-step prediction. To predict what will happen after $T$ time steps, we need to know what should happen after $T-1$ time steps and thus we must predict all time steps from the current point $T_0$ to $T_0 + T$. This way is taken in machine learning community. Numenta has a dedicated [Heirarchical Temporal Memory](https://numenta.com/resources/biological-and-machine-intelligence/temporal-memory-algorithm/) (HTM) framework for this. As a side note, kWTA is heavily used in HTM.\n",
        "2. Instantaneous prediction at any time step scale. In Numenta's Heirarchical Temporal Memory framework, it's called [Temporal Pooler](https://github.com/numenta/htmresearch/wiki/Overview-of-the-Temporal-Pooler) (not implemented yet).\n",
        "\n",
        "Theoretically, these both ways could be implemented with Willshaw's learning rule by associating not subsuqent $x_{t-1}$ and $x_t$ events only but including (all?) previous ones.\n"
      ]
    },
    {
      "metadata": {
        "id": "s2kcJqamwI7B",
        "colab_type": "code",
        "colab": {
          "base_uri": "https://localhost:8080/",
          "height": 393
        },
        "outputId": "48f5cc26-8ea8-453c-df89-9dc5054b25c0"
      },
      "cell_type": "code",
      "source": [
        "import matplotlib.pyplot as plt\n",
        "import torch\n",
        "import torch.nn.functional as F\n",
        "from torch.distributions.bernoulli import Bernoulli\n",
        "from tqdm import tqdm\n",
        "\n",
        "use_cuda = torch.cuda.is_available()\n",
        "device = 'cuda' if use_cuda else 'cpu'\n",
        "\n",
        "sparsity = 0.05\n",
        "n_patterns = 2000\n",
        "size = 1000\n",
        "\n",
        "bernoulli_sampler = Bernoulli(probs=sparsity)\n",
        "dict_patterns = bernoulli_sampler.sample([n_patterns, size]).to(device=device)\n",
        "weights = torch.zeros(size, size, device=device)\n",
        "\n",
        "pair_indices = torch.randint(low=0, high=n_patterns, size=(n_patterns, 2), device=device)\n",
        "pairs_to_learn = dict_patterns[pair_indices]\n",
        "\n",
        "similarity = []\n",
        "weights_bits_active = []\n",
        "\n",
        "\n",
        "def get_similarity(pairs_learned):\n",
        "    patterns_orig = pairs_learned[:, 0]\n",
        "    patterns_retrieved = pairs_learned[:, 1] @ weights.transpose(0, 1)\n",
        "    sim = F.cosine_similarity(patterns_orig, patterns_retrieved, dim=1).mean()\n",
        "    return sim\n",
        "\n",
        "\n",
        "for trial, (left, right) in enumerate(tqdm(pair_indices)):\n",
        "    pattern_left, pattern_right = pairs_to_learn[trial]\n",
        "    weights += torch.ger(pattern_left, pattern_right)  # outer product\n",
        "    weights.clamp_max_(1.0)\n",
        "    trial_similarity = get_similarity(pairs_learned=pairs_to_learn[:trial + 1])\n",
        "    similarity.append(trial_similarity)\n",
        "    weights_bits_active.append(weights.mean())\n",
        "\n",
        "\n",
        "plt.subplot(211)\n",
        "plt.plot(range(n_patterns), similarity)\n",
        "plt.ylabel('Cosine similarity')\n",
        "plt.title('Similarity between the true (original) and restored patterns')\n",
        "\n",
        "plt.subplot(212)\n",
        "plt.plot(range(n_patterns), weights_bits_active)\n",
        "plt.ylabel('# active bits in the matrix (normed)')\n",
        "plt.xlabel('Num. of learned pairs')\n",
        "plt.show()\n"
      ],
      "execution_count": 11,
      "outputs": [
        {
          "output_type": "stream",
          "text": [
            "100%|██████████| 2000/2000 [00:03<00:00, 646.46it/s]\n"
          ],
          "name": "stderr"
        },
        {
          "output_type": "display_data",
          "data": {
            "image/png": "[encoded data removed]",
            "text/plain": [
              "<Figure size 576x396 with 2 Axes>"
            ]
          },
          "metadata": {
            "tags": []
          }
        }
      ]
    },
    {
      "metadata": {
        "id": "hOb6aVa2kuqo",
        "colab_type": "text"
      },
      "cell_type": "markdown",
      "source": [
        "As expected, the more pattern pairs are stored in a memory, more bit cells of the matrix are filled and, consequently, more errors and spurious patterns are retrieved instead of the original ones.\n",
        "\n",
        "\n",
        "## SDR subsampling and ability to reconstruct the pattern by a partial match\n",
        "\n",
        "Another beautiful property of SDR, which we won't discuss now, is its ability to reconstruct a pattern by a partial match, using latteral connections (recurrent connections between neurons in one layer). For example, Willshaw's model doesn't require us associating the full SDR vectors. Instead, we can _subsample_ $k < k_{active}$ neurons from $k_{active}$  active neurons and try associating only them. Then, latteral connections reconstuct the missing active neurons. Here is the same idea taken from HTM community ([link to pdf](https://numenta.com/assets/pdf/temporal-memory-algorithm/Temporal-Memory-Algorithm-Details.pdf)):\n",
        "\n",
        "> Assume we have a hypothetical layer that always forms representations by using 200 active cells out of\n",
        "a total of 10,000 cells (2% of the cells are active at any time). How can we remember and recognize a\n",
        "particular pattern of 200 active cells? A simple way to do this is to make a list of the 200 active cells we\n",
        "care about. If we see the same 200 cells active again we recognize the pattern. However, what if we\n",
        "made a list of only 20 of the 200 active cells and ignored the other 180? What would happen? You\n",
        "might think that remembering only 20 cells would cause lots of errors, that those 20 cells would be\n",
        "active in many different patterns of 200. But this isn’t the case. Because the patterns are large and\n",
        "sparse (in this example 200 active cells out of 10,000), remembering 20 active cells is almost as good as\n",
        "remembering all 200. The chance for error in a practical system is exceedingly small and we have\n",
        "reduced our memory needs considerably. "
      ]
    }
  ]
}